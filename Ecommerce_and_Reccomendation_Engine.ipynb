{
  "nbformat": 4,
  "nbformat_minor": 0,
  "metadata": {
    "colab": {
      "provenance": [],
      "toc_visible": true,
      "authorship_tag": "ABX9TyNVU1mYRbhzNBJAf34JPmY3",
      "include_colab_link": true
    },
    "kernelspec": {
      "name": "python3",
      "display_name": "Python 3"
    },
    "language_info": {
      "name": "python"
    }
  },
  "cells": [
    {
      "cell_type": "markdown",
      "metadata": {
        "id": "view-in-github",
        "colab_type": "text"
      },
      "source": [
        "<a href=\"https://colab.research.google.com/github/canisius-DAT512/Spring-23-Week-8/blob/main/Ecommerce_and_Reccomendation_Engine.ipynb\" target=\"_parent\"><img src=\"https://colab.research.google.com/assets/colab-badge.svg\" alt=\"Open In Colab\"/></a>"
      ]
    },
    {
      "cell_type": "markdown",
      "source": [
        "# E-Commerce Analysis on Google Cloud\n",
        "DAT 512 Canisius College <br>\n",
        "Adjunct Professor Paul Lambson\n",
        "\n",
        "Learning Objectives\n",
        "- Walk through query building for analysis\n",
        "- Find key assumptions for The Hub dataset\n",
        "- Perform an analysis on business, product and basket\n",
        "- Build a reccomendation engine\n"
      ],
      "metadata": {
        "id": "KsScRAb9U7kx"
      }
    },
    {
      "cell_type": "markdown",
      "source": [
        "# Query Building for Analysis\n",
        "When presented with a problem for analysis we can take on an a preperatory step to simplify the process.\n",
        "\n",
        "**Psuedo-code** `In computer science, pseudocode is a plain language description of the steps in an algorithm or another system.`\n",
        "\n",
        "Breaking down a problem into the component pieces, understanding the data sources, flow and logic gates at the onset can direct make the process more effiecient.\n",
        "\n",
        "What parts of a problem need to be broken down?\n",
        "1.   Understand the question, understand why it's being asked, understand how the answer will be used.\n",
        "2.   Identify the data elements needed to answer the question\n",
        "3.   Determine the method of getting all the data elements on the same environment\n",
        "4.   Evaluate inclusion and/or exclusion criteria\n",
        "5.   Define the flow of the data and calcualtion that should happen at each step\n",
        "\n",
        "What does psuedocode look like?\n",
        "\n",
        "Scratch paper, non-operable code, diagrams, whatever medium allows for interegation of steps prior to compilation.\n",
        "\n",
        "## Example psuedocode\n",
        "Given the question, what is the highest selling product.\n",
        "\n",
        "- Will need products information and sales information\n",
        "- Need to join the tables on a product column\n",
        "- Need all valid sales data\n",
        "- Exclude sales that aren't valid, look at all `status` values\n",
        "\n",
        "<table>\n",
        "<tr>\n",
        "<th>Psuedocode</th>\n",
        "<th>Standard SQL</th>\n",
        "</tr>\n",
        "<tr>\n",
        "<td>\n",
        "  \n",
        "```\n",
        "select most of the columns\n",
        "from the orders table and the product table\n",
        "join them on product id\n",
        "limit to only valid sales (no returns, etc.)\n",
        "```\n",
        "  \n",
        "</td>\n",
        "<td>\n",
        "\n",
        "```sql\n",
        "SELECT *\n",
        "FROM\n",
        "  `bigquery-public-data.thelook_ecommerce.order_items` oi\n",
        "JOIN\n",
        "  `bigquery-public-data.thelook_ecommerce.products` p\n",
        "ON\n",
        "  oi.product_id = p.id\n",
        "WHERE status NOT IN ('Returned','Cancelled')\n",
        "```\n",
        "\n",
        "</td>\n",
        "</tr>\n",
        "</table>\n",
        "\n"
      ],
      "metadata": {
        "id": "ew_vfp4aFgw_"
      }
    },
    {
      "cell_type": "code",
      "execution_count": null,
      "metadata": {
        "id": "txs684-aS62o"
      },
      "outputs": [],
      "source": [
        "# authenticate with the google account used in console\n",
        "from google.colab import auth\n",
        "auth.authenticate_user()"
      ]
    },
    {
      "cell_type": "code",
      "source": [
        "import pandas as pd\n",
        "\n",
        "project_id = 'tla-consultants'\n",
        "\n",
        "df = pd.io.gbq.read_gbq(f'''\n",
        "''',project_id=project_id)"
      ],
      "metadata": {
        "id": "lB-C4zqSTEe7"
      },
      "execution_count": null,
      "outputs": []
    },
    {
      "cell_type": "markdown",
      "source": [
        "# Business Analysis\n",
        "- Count of sales by month over time\n",
        "- Sales over time\n",
        "- Sales by status\n",
        "- Orders fulfilled by distribution center"
      ],
      "metadata": {
        "id": "-hJdyt8Gjepk"
      }
    },
    {
      "cell_type": "code",
      "source": [],
      "metadata": {
        "id": "FUiQtVPtjr7W"
      },
      "execution_count": null,
      "outputs": []
    },
    {
      "cell_type": "markdown",
      "source": [
        "# Product Analysis\n",
        "- What are the category sales distribution\n",
        "- What are the highest selling products?\n",
        "- What are the worst selling products?\n",
        "- Does it differ by year?\n",
        "- What are the most returned items?\n",
        "- Does price point drive sales?"
      ],
      "metadata": {
        "id": "GDEbfot0jkEd"
      }
    },
    {
      "cell_type": "code",
      "source": [],
      "metadata": {
        "id": "VLAijqNFnmSh"
      },
      "execution_count": null,
      "outputs": []
    },
    {
      "cell_type": "markdown",
      "source": [
        "\n",
        "# Basket Analysis\n",
        "- What is the average baasket size?\n",
        "- What is the makeup of shopping carts?\n",
        "- What sells well together?"
      ],
      "metadata": {
        "id": "ll7tLSjkjpNW"
      }
    },
    {
      "cell_type": "code",
      "source": [],
      "metadata": {
        "id": "g-8WgVqHFISi"
      },
      "execution_count": null,
      "outputs": []
    },
    {
      "cell_type": "markdown",
      "source": [
        "# Recomendation Engine\n"
      ],
      "metadata": {
        "id": "L3U-lxgebwb0"
      }
    },
    {
      "cell_type": "code",
      "source": [
        "# Create a dataframe with only users and products\n",
        "sql = '''\n",
        "SELECT\n",
        "  user_id, product_id\n",
        "FROM\n",
        "  `bigquery-public-data.thelook_ecommerce.order_items` oi\n",
        "JOIN\n",
        "  `bigquery-public-data.thelook_ecommerce.products` p\n",
        "ON\n",
        "  oi.product_id = p.id\n",
        "WHERE status NOT IN ('Returned','Cancelled')\n",
        "'''\n",
        "\n",
        "import pandas as pd\n",
        "\n",
        "project_id = 'tla-consultants'\n",
        "\n",
        "df = pd.io.gbq.read_gbq(sql,project_id=project_id)\n",
        "df.shape"
      ],
      "metadata": {
        "id": "NF-9FHExbwCA"
      },
      "execution_count": null,
      "outputs": []
    },
    {
      "cell_type": "code",
      "source": [
        "# make a dataframe with only product information\n",
        "sql = '''\n",
        "SELECT\n",
        "  *\n",
        "FROM\n",
        "`bigquery-public-data.thelook_ecommerce.products`\n",
        "'''\n",
        "\n",
        "import pandas as pd\n",
        "\n",
        "project_id = 'tla-consultants'\n",
        "\n",
        "products = pd.io.gbq.read_gbq(sql,project_id=project_id)\n",
        "products.shape"
      ],
      "metadata": {
        "id": "-6ROBIzdJjfa"
      },
      "execution_count": null,
      "outputs": []
    },
    {
      "cell_type": "code",
      "source": [
        "# downselect to products that have sold at least 8 times\n",
        "product_freq = df['product_id'].value_counts()\n",
        "top_products = product_freq[product_freq>8].index\n",
        "print(top_products.shape)\n",
        "df = df[df['product_id'].isin(top_products)]\n",
        "df.shape"
      ],
      "metadata": {
        "id": "rGuBEEbAFKAY"
      },
      "execution_count": null,
      "outputs": []
    },
    {
      "cell_type": "code",
      "source": [
        "# downselect to users who have purchased more than 1 item\n",
        "product_users = df.groupby('user_id')['product_id'].nunique()\n",
        "users_w_products = product_users[product_users>1].index\n",
        "\n",
        "df = df[df['user_id'].isin(users_w_products)]\n",
        "df.shape"
      ],
      "metadata": {
        "id": "OeRiEGQkg-D5"
      },
      "execution_count": null,
      "outputs": []
    },
    {
      "cell_type": "code",
      "source": [
        "# transpose to dummies\n",
        "product_dummy = pd.get_dummies(df['product_id'])\n",
        "# join in user_id to dummies\n",
        "up_dummy = product_dummy.join(df['user_id'])\n",
        "up_dummy.shape"
      ],
      "metadata": {
        "id": "Buzf6xult5PC"
      },
      "execution_count": null,
      "outputs": []
    },
    {
      "cell_type": "code",
      "source": [
        "up_dummy.head()"
      ],
      "metadata": {
        "id": "lN1CGqYLdlfy"
      },
      "execution_count": null,
      "outputs": []
    },
    {
      "cell_type": "code",
      "source": [
        "# group by user ids get max, so binary flag\n",
        "up_grouped = up_dummy.groupby('user_id').max()\n",
        "\n",
        "# create corr matrix\n",
        "corr_matrix = up_grouped.corr()\n",
        "corrs = corr_matrix.unstack().reset_index()\n",
        "corrs.columns = ['Product_A','Product_B','Corr_Value']\n",
        "\n",
        "# add product information to corr values\n",
        "corrs_names = corrs.merge(products[['id','name']], left_on='Product_A', right_on='id').merge(products[['id','name']], left_on='Product_B', right_on='id')\n"
      ],
      "metadata": {
        "id": "a8cnJRK9l8nm"
      },
      "execution_count": null,
      "outputs": []
    },
    {
      "cell_type": "code",
      "source": [
        "corrs_names.head()"
      ],
      "metadata": {
        "id": "QeC0EKZxL3Yw"
      },
      "execution_count": null,
      "outputs": []
    },
    {
      "cell_type": "code",
      "source": [
        "# Let's look for products with strong correlation values with other products \n",
        "corrs_names[corrs_names['Corr_Value']>0]['Product_A'].value_counts()"
      ],
      "metadata": {
        "id": "ycfG4EcUM4D7"
      },
      "execution_count": null,
      "outputs": []
    },
    {
      "cell_type": "code",
      "source": [
        "corrs_names[corrs_names['Product_A']==22810].sort_values(by='Corr_Value',ascending=False).head(10)"
      ],
      "metadata": {
        "id": "e9gkX1-_L6Tt"
      },
      "execution_count": null,
      "outputs": []
    }
  ]
}